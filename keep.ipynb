{
 "cells": [
  {
   "cell_type": "code",
   "execution_count": 13,
   "metadata": {},
   "outputs": [],
   "source": [
    "import csv"
   ]
  },
  {
   "cell_type": "code",
   "execution_count": 14,
   "metadata": {},
   "outputs": [],
   "source": [
    "header = ['nameid', 'high_WPM (time)','avg_WPM (time)','avg_acc','total match']\n",
    "defualt = ['None','0','0','0','0']\n",
    "with open('short record.csv', mode = 'w') as f:\n",
    "    f = csv.writer(f)\n",
    "    f.writerow(header)\n",
    "    f.writerow(defualt)\n",
    "with open('normal record.csv', mode = 'w') as f:\n",
    "    f = csv.writer(f)\n",
    "    f.writerow(header)\n",
    "    f.writerow(defualt)\n",
    "with open('long record.csv', mode = 'w') as f:\n",
    "    f = csv.writer(f)\n",
    "    f.writerow(header)\n",
    "    f.writerow(defualt)"
   ]
  },
  {
   "cell_type": "code",
   "execution_count": 15,
   "metadata": {},
   "outputs": [
    {
     "name": "stdout",
     "output_type": "stream",
     "text": [
      "['nameid', 'high_WPM (time)', 'avg_WPM (time)', 'avg_acc', 'total match']\n",
      "['None', '0', '0', '0', '0']\n"
     ]
    }
   ],
   "source": [
    "with open('short record.csv', mode = 'r', newline ='\\n') as f:\n",
    "    f = csv.reader(f)\n",
    "    for var in f:\n",
    "        print(var)"
   ]
  }
 ],
 "metadata": {
  "kernelspec": {
   "display_name": "Python 3.10.5 64-bit",
   "language": "python",
   "name": "python3"
  },
  "language_info": {
   "codemirror_mode": {
    "name": "ipython",
    "version": 3
   },
   "file_extension": ".py",
   "mimetype": "text/x-python",
   "name": "python",
   "nbconvert_exporter": "python",
   "pygments_lexer": "ipython3",
   "version": "3.10.5"
  },
  "orig_nbformat": 4,
  "vscode": {
   "interpreter": {
    "hash": "be843d9b40e451ecd8790c8d1e4c3cc209e4a757e2d8ae3758aaa4c93dbf2952"
   }
  }
 },
 "nbformat": 4,
 "nbformat_minor": 2
}
